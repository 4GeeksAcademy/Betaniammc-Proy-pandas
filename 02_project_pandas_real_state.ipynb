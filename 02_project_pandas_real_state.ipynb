{
  "cells": [
    {
      "cell_type": "markdown",
      "id": "innocent-university",
      "metadata": {
        "id": "innocent-university"
      },
      "source": [
        "# Limpieza del dataset de bienes raíces\n",
        "\n",
        "Este es un conjunto de datos (dataset) reales que fue descargado usando técnicas de web scraping. El archivo contiene registros de **Fotocasa**, el cual es uno de los sitios más populares de bienes raíces en España. Contiene miles de datos de casas reales publicadas en la web www.fotocasa.com.\n",
        "\n",
        "El dataset fue descargado hace algunos años y en ningún caso se obtuvo beneficio económico de ello.\n",
        "\n",
        "Tu objetivo es extraer tanta información como sea posible con el conocimiento que tienes hasta ahora de ciencia de datos.\n",
        "\n",
        "Agrega observaciones, conclusiones o notas acerca de los datos obtenidos en cada ejercicio."
      ]
    },
    {
      "cell_type": "code",
      "execution_count": 2,
      "id": "frank-heath",
      "metadata": {
        "ExecuteTime": {
          "end_time": "2025-09-23T22:18:44.079692Z",
          "start_time": "2025-09-23T22:18:43.699022Z"
        },
        "id": "frank-heath"
      },
      "outputs": [],
      "source": [
        "import pandas as pd"
      ]
    },
    {
      "cell_type": "markdown",
      "id": "5807eba1fce08a86",
      "metadata": {
        "id": "5807eba1fce08a86"
      },
      "source": [
        "#### Ejercicio 00\n",
        "\n",
        "Lee el dataset data/real_estate.csv e intenta visualizar la tabla (★☆☆)"
      ]
    },
    {
      "cell_type": "code",
      "execution_count": 3,
      "id": "82e7dea53f252c1c",
      "metadata": {
        "ExecuteTime": {
          "end_time": "2025-09-23T22:18:48.046480Z",
          "start_time": "2025-09-23T22:18:47.647010Z"
        },
        "colab": {
          "base_uri": "https://localhost:8080/",
          "height": 652
        },
        "id": "82e7dea53f252c1c",
        "outputId": "e4b16da4-40f3-47d3-c91e-61e77d9d0736"
      },
      "outputs": [
        {
          "data": {
            "text/html": [
              "<div>\n",
              "<style scoped>\n",
              "    .dataframe tbody tr th:only-of-type {\n",
              "        vertical-align: middle;\n",
              "    }\n",
              "\n",
              "    .dataframe tbody tr th {\n",
              "        vertical-align: top;\n",
              "    }\n",
              "\n",
              "    .dataframe thead th {\n",
              "        text-align: right;\n",
              "    }\n",
              "</style>\n",
              "<table border=\"1\" class=\"dataframe\">\n",
              "  <thead>\n",
              "    <tr style=\"text-align: right;\">\n",
              "      <th></th>\n",
              "      <th>Unnamed: 0</th>\n",
              "      <th>id_realEstates</th>\n",
              "      <th>isNew</th>\n",
              "      <th>realEstate_name</th>\n",
              "      <th>phone_realEstate</th>\n",
              "      <th>url_inmueble</th>\n",
              "      <th>rooms</th>\n",
              "      <th>bathrooms</th>\n",
              "      <th>surface</th>\n",
              "      <th>price</th>\n",
              "      <th>...</th>\n",
              "      <th>level4Id</th>\n",
              "      <th>level5Id</th>\n",
              "      <th>level6Id</th>\n",
              "      <th>level7Id</th>\n",
              "      <th>level8Id</th>\n",
              "      <th>accuracy</th>\n",
              "      <th>latitude</th>\n",
              "      <th>longitude</th>\n",
              "      <th>zipCode</th>\n",
              "      <th>customZone</th>\n",
              "    </tr>\n",
              "  </thead>\n",
              "  <tbody>\n",
              "    <tr>\n",
              "      <th>0</th>\n",
              "      <td>1</td>\n",
              "      <td>153771986</td>\n",
              "      <td>False</td>\n",
              "      <td>ferrari 57 inmobiliaria</td>\n",
              "      <td>912177526.0</td>\n",
              "      <td>https://www.fotocasa.es/es/comprar/vivienda/ma...</td>\n",
              "      <td>3.0</td>\n",
              "      <td>2.0</td>\n",
              "      <td>103.0</td>\n",
              "      <td>195000</td>\n",
              "      <td>...</td>\n",
              "      <td>0</td>\n",
              "      <td>0</td>\n",
              "      <td>0</td>\n",
              "      <td>0</td>\n",
              "      <td>0</td>\n",
              "      <td>0</td>\n",
              "      <td>40,2948276786438</td>\n",
              "      <td>-3,44402412135624</td>\n",
              "      <td>NaN</td>\n",
              "      <td>NaN</td>\n",
              "    </tr>\n",
              "    <tr>\n",
              "      <th>1</th>\n",
              "      <td>2</td>\n",
              "      <td>153867863</td>\n",
              "      <td>False</td>\n",
              "      <td>tecnocasa fuenlabrada ferrocarril</td>\n",
              "      <td>916358736.0</td>\n",
              "      <td>https://www.fotocasa.es/es/comprar/vivienda/ma...</td>\n",
              "      <td>3.0</td>\n",
              "      <td>1.0</td>\n",
              "      <td>NaN</td>\n",
              "      <td>89000</td>\n",
              "      <td>...</td>\n",
              "      <td>0</td>\n",
              "      <td>0</td>\n",
              "      <td>0</td>\n",
              "      <td>0</td>\n",
              "      <td>0</td>\n",
              "      <td>1</td>\n",
              "      <td>40,28674</td>\n",
              "      <td>-3,79351</td>\n",
              "      <td>NaN</td>\n",
              "      <td>NaN</td>\n",
              "    </tr>\n",
              "    <tr>\n",
              "      <th>2</th>\n",
              "      <td>3</td>\n",
              "      <td>153430440</td>\n",
              "      <td>False</td>\n",
              "      <td>look find boadilla</td>\n",
              "      <td>916350408.0</td>\n",
              "      <td>https://www.fotocasa.es/es/comprar/vivienda/ma...</td>\n",
              "      <td>2.0</td>\n",
              "      <td>2.0</td>\n",
              "      <td>99.0</td>\n",
              "      <td>390000</td>\n",
              "      <td>...</td>\n",
              "      <td>0</td>\n",
              "      <td>0</td>\n",
              "      <td>0</td>\n",
              "      <td>0</td>\n",
              "      <td>0</td>\n",
              "      <td>0</td>\n",
              "      <td>40,4115646786438</td>\n",
              "      <td>-3,90662252135624</td>\n",
              "      <td>NaN</td>\n",
              "      <td>NaN</td>\n",
              "    </tr>\n",
              "    <tr>\n",
              "      <th>3</th>\n",
              "      <td>4</td>\n",
              "      <td>152776331</td>\n",
              "      <td>False</td>\n",
              "      <td>tecnocasa fuenlabrada ferrocarril</td>\n",
              "      <td>916358736.0</td>\n",
              "      <td>https://www.fotocasa.es/es/comprar/vivienda/ma...</td>\n",
              "      <td>3.0</td>\n",
              "      <td>1.0</td>\n",
              "      <td>86.0</td>\n",
              "      <td>89000</td>\n",
              "      <td>...</td>\n",
              "      <td>0</td>\n",
              "      <td>0</td>\n",
              "      <td>0</td>\n",
              "      <td>0</td>\n",
              "      <td>0</td>\n",
              "      <td>0</td>\n",
              "      <td>40,2853785786438</td>\n",
              "      <td>-3,79508142135624</td>\n",
              "      <td>NaN</td>\n",
              "      <td>NaN</td>\n",
              "    </tr>\n",
              "    <tr>\n",
              "      <th>4</th>\n",
              "      <td>5</td>\n",
              "      <td>153180188</td>\n",
              "      <td>False</td>\n",
              "      <td>ferrari 57 inmobiliaria</td>\n",
              "      <td>912177526.0</td>\n",
              "      <td>https://www.fotocasa.es/es/comprar/vivienda/ma...</td>\n",
              "      <td>2.0</td>\n",
              "      <td>2.0</td>\n",
              "      <td>106.0</td>\n",
              "      <td>172000</td>\n",
              "      <td>...</td>\n",
              "      <td>0</td>\n",
              "      <td>0</td>\n",
              "      <td>0</td>\n",
              "      <td>0</td>\n",
              "      <td>0</td>\n",
              "      <td>0</td>\n",
              "      <td>40,2998774864376</td>\n",
              "      <td>-3,45226301356237</td>\n",
              "      <td>NaN</td>\n",
              "      <td>NaN</td>\n",
              "    </tr>\n",
              "    <tr>\n",
              "      <th>...</th>\n",
              "      <td>...</td>\n",
              "      <td>...</td>\n",
              "      <td>...</td>\n",
              "      <td>...</td>\n",
              "      <td>...</td>\n",
              "      <td>...</td>\n",
              "      <td>...</td>\n",
              "      <td>...</td>\n",
              "      <td>...</td>\n",
              "      <td>...</td>\n",
              "      <td>...</td>\n",
              "      <td>...</td>\n",
              "      <td>...</td>\n",
              "      <td>...</td>\n",
              "      <td>...</td>\n",
              "      <td>...</td>\n",
              "      <td>...</td>\n",
              "      <td>...</td>\n",
              "      <td>...</td>\n",
              "      <td>...</td>\n",
              "      <td>...</td>\n",
              "    </tr>\n",
              "    <tr>\n",
              "      <th>15330</th>\n",
              "      <td>15331</td>\n",
              "      <td>153901377</td>\n",
              "      <td>False</td>\n",
              "      <td>infocasa consulting</td>\n",
              "      <td>911360461.0</td>\n",
              "      <td>https://www.fotocasa.es/es/comprar/vivienda/ma...</td>\n",
              "      <td>2.0</td>\n",
              "      <td>1.0</td>\n",
              "      <td>96.0</td>\n",
              "      <td>259470</td>\n",
              "      <td>...</td>\n",
              "      <td>0</td>\n",
              "      <td>0</td>\n",
              "      <td>0</td>\n",
              "      <td>0</td>\n",
              "      <td>0</td>\n",
              "      <td>0</td>\n",
              "      <td>40,45416</td>\n",
              "      <td>-3,70286</td>\n",
              "      <td>NaN</td>\n",
              "      <td>NaN</td>\n",
              "    </tr>\n",
              "    <tr>\n",
              "      <th>15331</th>\n",
              "      <td>15332</td>\n",
              "      <td>150394373</td>\n",
              "      <td>False</td>\n",
              "      <td>inmobiliaria pulpon</td>\n",
              "      <td>912788039.0</td>\n",
              "      <td>https://www.fotocasa.es/es/comprar/vivienda/ma...</td>\n",
              "      <td>3.0</td>\n",
              "      <td>1.0</td>\n",
              "      <td>150.0</td>\n",
              "      <td>165000</td>\n",
              "      <td>...</td>\n",
              "      <td>0</td>\n",
              "      <td>0</td>\n",
              "      <td>0</td>\n",
              "      <td>0</td>\n",
              "      <td>0</td>\n",
              "      <td>0</td>\n",
              "      <td>40,36652</td>\n",
              "      <td>-3,48951</td>\n",
              "      <td>NaN</td>\n",
              "      <td>NaN</td>\n",
              "    </tr>\n",
              "    <tr>\n",
              "      <th>15332</th>\n",
              "      <td>15333</td>\n",
              "      <td>153901397</td>\n",
              "      <td>False</td>\n",
              "      <td>tecnocasa torrelodones</td>\n",
              "      <td>912780348.0</td>\n",
              "      <td>https://www.fotocasa.es/es/comprar/vivienda/ma...</td>\n",
              "      <td>4.0</td>\n",
              "      <td>2.0</td>\n",
              "      <td>175.0</td>\n",
              "      <td>495000</td>\n",
              "      <td>...</td>\n",
              "      <td>0</td>\n",
              "      <td>0</td>\n",
              "      <td>0</td>\n",
              "      <td>0</td>\n",
              "      <td>0</td>\n",
              "      <td>0</td>\n",
              "      <td>40,57444</td>\n",
              "      <td>-3,92124</td>\n",
              "      <td>NaN</td>\n",
              "      <td>NaN</td>\n",
              "    </tr>\n",
              "    <tr>\n",
              "      <th>15333</th>\n",
              "      <td>15334</td>\n",
              "      <td>152607440</td>\n",
              "      <td>False</td>\n",
              "      <td>inmobiliaria pulpon</td>\n",
              "      <td>912788039.0</td>\n",
              "      <td>https://www.fotocasa.es/es/comprar/vivienda/ma...</td>\n",
              "      <td>3.0</td>\n",
              "      <td>2.0</td>\n",
              "      <td>101.0</td>\n",
              "      <td>195000</td>\n",
              "      <td>...</td>\n",
              "      <td>0</td>\n",
              "      <td>0</td>\n",
              "      <td>0</td>\n",
              "      <td>0</td>\n",
              "      <td>0</td>\n",
              "      <td>0</td>\n",
              "      <td>40,36967</td>\n",
              "      <td>-3,48105</td>\n",
              "      <td>NaN</td>\n",
              "      <td>NaN</td>\n",
              "    </tr>\n",
              "    <tr>\n",
              "      <th>15334</th>\n",
              "      <td>15335</td>\n",
              "      <td>153901356</td>\n",
              "      <td>False</td>\n",
              "      <td>infocasa consulting</td>\n",
              "      <td>911360461.0</td>\n",
              "      <td>https://www.fotocasa.es/es/comprar/vivienda/ma...</td>\n",
              "      <td>3.0</td>\n",
              "      <td>2.0</td>\n",
              "      <td>152.0</td>\n",
              "      <td>765000</td>\n",
              "      <td>...</td>\n",
              "      <td>0</td>\n",
              "      <td>0</td>\n",
              "      <td>0</td>\n",
              "      <td>0</td>\n",
              "      <td>0</td>\n",
              "      <td>0</td>\n",
              "      <td>40,45773</td>\n",
              "      <td>-3,69068</td>\n",
              "      <td>NaN</td>\n",
              "      <td>NaN</td>\n",
              "    </tr>\n",
              "  </tbody>\n",
              "</table>\n",
              "<p>15335 rows × 37 columns</p>\n",
              "</div>"
            ],
            "text/plain": [
              "       Unnamed: 0  id_realEstates  isNew                    realEstate_name  \\\n",
              "0               1       153771986  False            ferrari 57 inmobiliaria   \n",
              "1               2       153867863  False  tecnocasa fuenlabrada ferrocarril   \n",
              "2               3       153430440  False                 look find boadilla   \n",
              "3               4       152776331  False  tecnocasa fuenlabrada ferrocarril   \n",
              "4               5       153180188  False            ferrari 57 inmobiliaria   \n",
              "...           ...             ...    ...                                ...   \n",
              "15330       15331       153901377  False                infocasa consulting   \n",
              "15331       15332       150394373  False                inmobiliaria pulpon   \n",
              "15332       15333       153901397  False             tecnocasa torrelodones   \n",
              "15333       15334       152607440  False                inmobiliaria pulpon   \n",
              "15334       15335       153901356  False                infocasa consulting   \n",
              "\n",
              "       phone_realEstate                                       url_inmueble  \\\n",
              "0           912177526.0  https://www.fotocasa.es/es/comprar/vivienda/ma...   \n",
              "1           916358736.0  https://www.fotocasa.es/es/comprar/vivienda/ma...   \n",
              "2           916350408.0  https://www.fotocasa.es/es/comprar/vivienda/ma...   \n",
              "3           916358736.0  https://www.fotocasa.es/es/comprar/vivienda/ma...   \n",
              "4           912177526.0  https://www.fotocasa.es/es/comprar/vivienda/ma...   \n",
              "...                 ...                                                ...   \n",
              "15330       911360461.0  https://www.fotocasa.es/es/comprar/vivienda/ma...   \n",
              "15331       912788039.0  https://www.fotocasa.es/es/comprar/vivienda/ma...   \n",
              "15332       912780348.0  https://www.fotocasa.es/es/comprar/vivienda/ma...   \n",
              "15333       912788039.0  https://www.fotocasa.es/es/comprar/vivienda/ma...   \n",
              "15334       911360461.0  https://www.fotocasa.es/es/comprar/vivienda/ma...   \n",
              "\n",
              "       rooms  bathrooms  surface   price  ... level4Id level5Id level6Id  \\\n",
              "0        3.0        2.0    103.0  195000  ...        0        0        0   \n",
              "1        3.0        1.0      NaN   89000  ...        0        0        0   \n",
              "2        2.0        2.0     99.0  390000  ...        0        0        0   \n",
              "3        3.0        1.0     86.0   89000  ...        0        0        0   \n",
              "4        2.0        2.0    106.0  172000  ...        0        0        0   \n",
              "...      ...        ...      ...     ...  ...      ...      ...      ...   \n",
              "15330    2.0        1.0     96.0  259470  ...        0        0        0   \n",
              "15331    3.0        1.0    150.0  165000  ...        0        0        0   \n",
              "15332    4.0        2.0    175.0  495000  ...        0        0        0   \n",
              "15333    3.0        2.0    101.0  195000  ...        0        0        0   \n",
              "15334    3.0        2.0    152.0  765000  ...        0        0        0   \n",
              "\n",
              "      level7Id level8Id accuracy          latitude          longitude zipCode  \\\n",
              "0            0        0        0  40,2948276786438  -3,44402412135624     NaN   \n",
              "1            0        0        1          40,28674           -3,79351     NaN   \n",
              "2            0        0        0  40,4115646786438  -3,90662252135624     NaN   \n",
              "3            0        0        0  40,2853785786438  -3,79508142135624     NaN   \n",
              "4            0        0        0  40,2998774864376  -3,45226301356237     NaN   \n",
              "...        ...      ...      ...               ...                ...     ...   \n",
              "15330        0        0        0          40,45416           -3,70286     NaN   \n",
              "15331        0        0        0          40,36652           -3,48951     NaN   \n",
              "15332        0        0        0          40,57444           -3,92124     NaN   \n",
              "15333        0        0        0          40,36967           -3,48105     NaN   \n",
              "15334        0        0        0          40,45773           -3,69068     NaN   \n",
              "\n",
              "      customZone  \n",
              "0            NaN  \n",
              "1            NaN  \n",
              "2            NaN  \n",
              "3            NaN  \n",
              "4            NaN  \n",
              "...          ...  \n",
              "15330        NaN  \n",
              "15331        NaN  \n",
              "15332        NaN  \n",
              "15333        NaN  \n",
              "15334        NaN  \n",
              "\n",
              "[15335 rows x 37 columns]"
            ]
          },
          "execution_count": 3,
          "metadata": {},
          "output_type": "execute_result"
        }
      ],
      "source": [
        "# Este archivo CSV contiene puntos y comas en lugar de comas como separadores\n",
        "df = pd.read_csv('real_estate.csv', sep=';')\n",
        "df"
      ]
    },
    {
      "cell_type": "code",
      "execution_count": 4,
      "id": "e54ad800",
      "metadata": {},
      "outputs": [
        {
          "data": {
            "text/plain": [
              "Index(['Unnamed: 0', 'id_realEstates', 'isNew', 'realEstate_name',\n",
              "       'phone_realEstate', 'url_inmueble', 'rooms', 'bathrooms', 'surface',\n",
              "       'price', 'date', 'description', 'address', 'country', 'level1',\n",
              "       'level2', 'level3', 'level4', 'level5', 'level6', 'level7', 'level8',\n",
              "       'upperLevel', 'countryId', 'level1Id', 'level2Id', 'level3Id',\n",
              "       'level4Id', 'level5Id', 'level6Id', 'level7Id', 'level8Id', 'accuracy',\n",
              "       'latitude', 'longitude', 'zipCode', 'customZone'],\n",
              "      dtype='object')"
            ]
          },
          "execution_count": 4,
          "metadata": {},
          "output_type": "execute_result"
        }
      ],
      "source": [
        "df.columns"
      ]
    },
    {
      "cell_type": "markdown",
      "id": "9670bfd13cfca1e7",
      "metadata": {
        "id": "9670bfd13cfca1e7"
      },
      "source": [
        "## Trabajando con un DataFrame"
      ]
    },
    {
      "cell_type": "markdown",
      "id": "latin-guest",
      "metadata": {
        "id": "latin-guest"
      },
      "source": [
        "#### Ejercicio 01\n",
        "\n",
        "¿Cuál es la casa más cara del dataset? (★☆☆)\n",
        "\n",
        "Imprime la dirección y el precio de la casa seleccionada. Para visualizar el resultado utiliza un f-string. Por ejemplo:\n",
        "\n",
        "```py\n",
        "f'La casa más cara se encuentra en la dirección: {address} y su precio es {price} €'\n",
        "```"
      ]
    },
    {
      "cell_type": "code",
      "execution_count": null,
      "id": "developing-optimum",
      "metadata": {
        "colab": {
          "base_uri": "https://localhost:8080/"
        },
        "id": "developing-optimum",
        "outputId": "92bdf07a-bee1-44dc-f218-c63827f6609a"
      },
      "outputs": [
        {
          "name": "stdout",
          "output_type": "stream",
          "text": [
            "la casa mas cara se encuentra en la direccion: 'El Escorial' y su precio es: 8500000\n"
          ]
        }
      ],
      "source": [
        "casa_mas_cara = df.loc[df[\"price\"].idxmax()]\n",
        "direccion = casa_mas_cara[\"address\"]\n",
        "precio_casa_mas_cara = casa_mas_cara[\"price\"]\n",
        "print(f\"la casa mas cara se encuentra en la direccion: '{direccion}' y su precio es: {precio_casa_mas_cara}\")"
      ]
    },
    {
      "cell_type": "markdown",
      "id": "lesser-cosmetic",
      "metadata": {
        "id": "lesser-cosmetic"
      },
      "source": [
        "#### Ejercicio 02\n",
        "\n",
        "¿Cuál es la casa más barata del dataset? (★☆☆)\n",
        "\n",
        "Imprime la dirección y el precio de la casa seleccionada utilizando f-string"
      ]
    },
    {
      "cell_type": "code",
      "execution_count": 6,
      "id": "lovely-oasis",
      "metadata": {
        "colab": {
          "base_uri": "https://localhost:8080/"
        },
        "id": "lovely-oasis",
        "outputId": "a9b77034-7ec1-4e11-b245-ebe60ec26043"
      },
      "outputs": [
        {
          "data": {
            "text/plain": [
              "'en la casa con direccion en Berlin, Coslada, con un precio de 600'"
            ]
          },
          "execution_count": 6,
          "metadata": {},
          "output_type": "execute_result"
        }
      ],
      "source": [
        "fila_precio_mas_barato = df[df[\"price\"]>0][\"price\"].idxmin()\n",
        "\n",
        "precio_min = df[df[\"price\"]>0][\"price\"].min()\n",
        "direccion_precio_mas_bajo = df.loc[fila_precio_mas_barato, \"address\"]\n",
        "\n",
        "f\"en la casa con direccion en {direccion_precio_mas_bajo}, con un precio de {precio_min}\"\n"
      ]
    },
    {
      "cell_type": "markdown",
      "id": "compliant-fellowship",
      "metadata": {
        "id": "compliant-fellowship"
      },
      "source": [
        "#### Ejercicio 03\n",
        "\n",
        "¿Cuál es la casa más grande del dataset? (★☆☆)\n",
        "\n",
        "Imprime la dirección y el área de las casas seleccionadas utilizando f-string"
      ]
    },
    {
      "cell_type": "code",
      "execution_count": 30,
      "id": "f73938ad",
      "metadata": {
        "colab": {
          "base_uri": "https://localhost:8080/"
        },
        "id": "f73938ad",
        "outputId": "ea4f80f7-42e3-4559-9979-4fcc6e5c1c51"
      },
      "outputs": [
        {
          "data": {
            "text/plain": [
              "\"la casa mas cara se encuentra en la direccion: 'Sevilla la Nueva' y su area es: 249000.0 mts2\""
            ]
          },
          "execution_count": 30,
          "metadata": {},
          "output_type": "execute_result"
        }
      ],
      "source": [
        "fila_casa_mas_grande = df.loc[df[\"surface\"].idxmax()]\n",
        "direccion_casa_mas_grande = fila_casa_mas_grande[\"address\"]\n",
        "area_casa_mas_grande = fila_casa_mas_grande[\"surface\"]\n",
        "f\"la casa mas cara se encuentra en la direccion: '{direccion_casa_mas_grande}' y su area es: {area_casa_mas_grande} mts2\""
      ]
    },
    {
      "cell_type": "markdown",
      "id": "89afefb0b0eb970e",
      "metadata": {
        "id": "89afefb0b0eb970e"
      },
      "source": [
        "#### Ejercicio 04\n",
        "\n",
        "¿Cuál es la casa más pequeña del dataset? (★☆☆)"
      ]
    },
    {
      "cell_type": "code",
      "execution_count": 8,
      "id": "every-tiffany",
      "metadata": {
        "colab": {
          "base_uri": "https://localhost:8080/"
        },
        "id": "every-tiffany",
        "outputId": "71459e65-73f0-4a5f-b245-e8a19c68da84"
      },
      "outputs": [
        {
          "data": {
            "text/plain": [
              "\"la casa con direccion en 'Calle Amparo,  Madrid Capital', con un area de: 15.0\""
            ]
          },
          "execution_count": 8,
          "metadata": {},
          "output_type": "execute_result"
        }
      ],
      "source": [
        "fila_area_menor =  df.loc[df[\"surface\"].idxmin()]\n",
        "direccion_menor_area = fila_area_menor[\"address\"]\n",
        "area_menor = fila_area_menor[\"surface\"]\n",
        "f\"la casa con direccion en '{direccion_menor_area}', con un area de: {area_menor}\""
      ]
    },
    {
      "cell_type": "markdown",
      "id": "crazy-blame",
      "metadata": {
        "id": "crazy-blame"
      },
      "source": [
        "#### Ejercicio 05.\n",
        "\n",
        "¿El dataset contiene valores no admitidos (NAs)? (★☆☆)\n",
        "\n",
        "- Muestra el nombre de las filas seguidas por un booleano (`True` o `False`) según contengan o no contengan NAs.\n",
        "- También muestra el nombre de las columnas seguidas por un booleano (`True` o `False`) según contengan o no contengan NAs."
      ]
    },
    {
      "cell_type": "code",
      "execution_count": 28,
      "id": "transparent-poetry",
      "metadata": {
        "colab": {
          "base_uri": "https://localhost:8080/",
          "height": 458
        },
        "id": "transparent-poetry",
        "outputId": "87ac3e76-84c4-4659-baeb-0fac135c4dc9"
      },
      "outputs": [
        {
          "data": {
            "text/plain": [
              "(Unnamed: 0          False\n",
              " id_realEstates      False\n",
              " isNew               False\n",
              " realEstate_name      True\n",
              " phone_realEstate     True\n",
              " url_inmueble        False\n",
              " rooms                True\n",
              " bathrooms            True\n",
              " surface              True\n",
              " price               False\n",
              " date                False\n",
              " description          True\n",
              " address             False\n",
              " country             False\n",
              " level1              False\n",
              " level2              False\n",
              " level3              False\n",
              " level4               True\n",
              " level5              False\n",
              " level6               True\n",
              " level7               True\n",
              " level8               True\n",
              " upperLevel          False\n",
              " countryId           False\n",
              " level1Id            False\n",
              " level2Id            False\n",
              " level3Id            False\n",
              " level4Id            False\n",
              " level5Id            False\n",
              " level6Id            False\n",
              " level7Id            False\n",
              " level8Id            False\n",
              " accuracy            False\n",
              " latitude            False\n",
              " longitude           False\n",
              " zipCode              True\n",
              " customZone           True\n",
              " pps                  True\n",
              " dtype: bool,)"
            ]
          },
          "execution_count": 28,
          "metadata": {},
          "output_type": "execute_result"
        }
      ],
      "source": [
        "dataset_de_nulos = df.isnull() # me devuelve el dataset con valores true o false (dependiendo de si es nulo o no)\n",
        "dataset_de_nulos.any(),#  devuelve verdadero si existe al menos un valor con true en la columna"
      ]
    },
    {
      "cell_type": "code",
      "execution_count": 29,
      "id": "4d1ac9fb",
      "metadata": {},
      "outputs": [
        {
          "data": {
            "text/plain": [
              "0        True\n",
              "1        True\n",
              "2        True\n",
              "3        True\n",
              "4        True\n",
              "         ... \n",
              "15330    True\n",
              "15331    True\n",
              "15332    True\n",
              "15333    True\n",
              "15334    True\n",
              "Length: 15335, dtype: bool"
            ]
          },
          "execution_count": 29,
          "metadata": {},
          "output_type": "execute_result"
        }
      ],
      "source": [
        "dataset_de_nulos.any(axis=1) # colocando axis=1 me devuelve el resultado por filas"
      ]
    },
    {
      "cell_type": "markdown",
      "id": "italic-hydrogen",
      "metadata": {
        "id": "italic-hydrogen"
      },
      "source": [
        "#### Ejercicio 06.\n",
        "\n",
        "Elimina las columnas que contengan NAs del dataset, si aplica (★★☆)\n",
        "\n",
        "Muestra las dimensiones del DataFrame original y del DataFrame después de las eliminaciones."
      ]
    },
    {
      "cell_type": "code",
      "execution_count": 31,
      "id": "administrative-roads",
      "metadata": {
        "colab": {
          "base_uri": "https://localhost:8080/"
        },
        "id": "administrative-roads",
        "outputId": "88ecb85c-5c94-4206-defd-dbe74593d821"
      },
      "outputs": [
        {
          "data": {
            "text/plain": [
              "'data frame original: 38 columnas, dataframe eliminando las columnas con nulos: 25 columnas'"
            ]
          },
          "execution_count": 31,
          "metadata": {},
          "output_type": "execute_result"
        }
      ],
      "source": [
        "df.shape # el datafame original tiene 5269 filas y  37 columnas\n",
        "nuevo_df = df.dropna(axis=1) #asigna a nuevo_df las columnas que no contienen nulos\n",
        "f\"data frame original: {df.shape[1]} columnas, dataframe eliminando las columnas con nulos: {nuevo_df.shape[1]} columnas\"\n"
      ]
    },
    {
      "cell_type": "markdown",
      "id": "c00ce93f7105532e",
      "metadata": {
        "id": "c00ce93f7105532e"
      },
      "source": [
        "#### Ejercicio 07\n",
        "\n",
        "¿Cuantas poblaciones (columna level5) contiene el dataset? (★☆☆)\n",
        "\n",
        "- Muestra una lista con los nombres de las poblaciones\n",
        "- Muestra el total de las mismas"
      ]
    },
    {
      "cell_type": "code",
      "execution_count": 33,
      "id": "dd8aec62c12bd8db",
      "metadata": {
        "colab": {
          "base_uri": "https://localhost:8080/",
          "height": 489
        },
        "id": "dd8aec62c12bd8db",
        "outputId": "88f3d89f-dc70-402f-81bd-6c7e4ed7f1c3"
      },
      "outputs": [
        {
          "data": {
            "text/plain": [
              "array(['Arganda del Rey', 'Fuenlabrada', 'Boadilla del Monte',\n",
              "       'Las Rozas de Madrid', ' Madrid Capital', 'Villaviciosa de Odón',\n",
              "       'Pinto', 'Valdemoro', 'Navalcarnero', 'Pozuelo de Alarcón',\n",
              "       'Torrejón de Ardoz', 'Navalagamella', 'San Sebastián de los Reyes',\n",
              "       'Rivas-vaciamadrid', 'Alpedrete', 'Móstoles',\n",
              "       'San Fernando de Henares', 'Coslada', 'Becerril de la Sierra',\n",
              "       'Alcalá de Henares', 'Chinchón', 'Parla', 'Alcorcón',\n",
              "       'El Escorial', 'Leganés', 'Pedrezuela', 'Majadahonda',\n",
              "       'Villanueva de la Cañada', 'Villanueva del Pardillo',\n",
              "       'Torrelodones', 'Moralzarzal', 'Mejorada del Campo', 'Aranjuez',\n",
              "       'Corpa', 'Getafe', 'Velilla de San Antonio', 'Sevilla la Nueva',\n",
              "       'San Martín de la Vega', 'Villalbilla', 'Collado Villalba',\n",
              "       'Alcobendas', 'El Molar (Madrid)', 'Moraleja de Enmedio', 'Algete',\n",
              "       'Campo Real', 'Torrejón de la Calzada', 'Colmenar Viejo',\n",
              "       'Valdemorillo', 'Fuente El Saz de Jarama', 'Tres Cantos',\n",
              "       'Arroyomolinos (Madrid)', 'Griñón', 'Paracuellos de Jarama',\n",
              "       'Guadarrama', 'Titulcia', 'Galapagar', 'Collado Mediano',\n",
              "       'Los Molinos', 'San Lorenzo de El Escorial', 'Loeches',\n",
              "       'San Martín de Valdeiglesias', 'Navas del Rey', 'Bustarviejo',\n",
              "       'Manzanares El Real', 'Carabaña', 'Casarrubuelos', 'Cercedilla',\n",
              "       'Fresnedillas de la Oliva', 'Valdemaqueda', 'Robledo de Chavela',\n",
              "       'Miraflores de la Sierra', 'Humanes de Madrid',\n",
              "       'Valdetorres de Jarama', 'San Agustín del Guadalix',\n",
              "       'Ciempozuelos', 'Camarma de Esteruelas', 'Torres de la Alameda',\n",
              "       'Talamanca de Jarama', 'El Atazar', 'Hoyo de Manzanares',\n",
              "       'El Boalo - Cerceda – Mataelpino', 'El Álamo', 'Valdilecha',\n",
              "       'Valdeolmos-Alalpardo', 'Guadalix de la Sierra',\n",
              "       'Belmonte de Tajo', 'El Vellón', 'Brunete', 'Redueña',\n",
              "       'Morata de Tajuña', 'Tielmes', 'Gargantilla del Lozoya', 'Meco',\n",
              "       'Venturada', 'Quijorna', 'Cenicientos', 'Torrejón de Velasco',\n",
              "       'Navacerrada', 'Santa María de la Alameda', 'Orusco de Tajuña',\n",
              "       'Daganzo de Arriba', 'Villamanta', 'Anchuelo', 'Valdaracete',\n",
              "       'Ajalvir', 'Los Santos de la Humosa', 'Villamanrique de Tajo',\n",
              "       'Colmenar de Oreja', 'Villa del Prado', 'Fuentidueña de Tajo',\n",
              "       'Colmenar del Arroyo', 'Valdelaguna', 'Cubas de la Sagra',\n",
              "       'Valdeavero', 'Aldea del Fresno', 'Ribatejada', 'Torrelaguna',\n",
              "       'Batres', 'Pezuela de las Torres', 'Colmenarejo',\n",
              "       'Serranillos del Valle', 'Cobeña', 'Soto del Real', 'El Berrueco',\n",
              "       'Villanueva de Perales', 'Fresno de Torote - Serracines',\n",
              "       'Pozuelo del Rey', 'Pelayos de la Presa', 'La Cabrera',\n",
              "       'Nuevo Baztán', 'Perales de Tajuña', 'Villaconejos',\n",
              "       'Villarejo de Salvanés', 'Cadalso de los Vidrios', 'Santorcaz',\n",
              "       'Madarcos', 'Garganta de los Montes', 'Puentes Viejas',\n",
              "       'Torremocha de Jarama', 'Valdemanco', 'Braojos',\n",
              "       'Lozoyuela-navas-sieteiglesias', 'Piñuécar-gandullas',\n",
              "       'Valdepiélagos', 'Valverde de Alcalá', 'Villar del Olmo',\n",
              "       'Villamantilla', 'Horcajo de la Sierra', 'Gascones', 'Zarzalejo',\n",
              "       'Villavieja del Lozoya', 'Brea de Tajo', 'Estremera', 'Chapinería',\n",
              "       'Navarredonda', 'Patones', 'Ambite', 'Navalafuente', 'Lozoya',\n",
              "       'Canencia', 'Cabanillas de la Sierra', 'Buitrago del Lozoya',\n",
              "       'Fresno de Torote', 'Robregordo', 'Pinilla del Valle', 'Rascafría',\n",
              "       'La Hiruela', 'Montejo de la Sierra'], dtype=object)"
            ]
          },
          "execution_count": 33,
          "metadata": {},
          "output_type": "execute_result"
        }
      ],
      "source": [
        "poblaciones = df[\"level5\"].unique() #muestra una lista de los nombres de las poblaciones unicas contenidas en level5\n",
        "poblaciones\n"
      ]
    },
    {
      "cell_type": "code",
      "execution_count": 32,
      "id": "1d19c8af",
      "metadata": {},
      "outputs": [
        {
          "data": {
            "text/plain": [
              "168"
            ]
          },
          "execution_count": 32,
          "metadata": {},
          "output_type": "execute_result"
        }
      ],
      "source": [
        "numero_de_poblaciones = df[\"level5\"].nunique()#muestra el numero total de las poblaciones\n",
        "numero_de_poblaciones"
      ]
    },
    {
      "cell_type": "markdown",
      "id": "ffe874b946959731",
      "metadata": {
        "id": "ffe874b946959731"
      },
      "source": [
        "#### Ejercicio 08\n",
        "\n",
        "¿Cuál es la media de precios en la población (columna level5) de \"Arroyomolinos (Madrid)\"? (★★☆)"
      ]
    },
    {
      "cell_type": "code",
      "execution_count": 12,
      "id": "1454ad464d3f1dfe",
      "metadata": {
        "colab": {
          "base_uri": "https://localhost:8080/"
        },
        "id": "1454ad464d3f1dfe",
        "outputId": "767a876e-a2ba-4303-8dc9-b8834fcc49da"
      },
      "outputs": [
        {
          "data": {
            "text/plain": [
              "294541"
            ]
          },
          "execution_count": 12,
          "metadata": {},
          "output_type": "execute_result"
        }
      ],
      "source": [
        "media_de_precios = df.groupby(\"level5\")[\"price\"].mean() #agrupamos por poblacion la media de precios\n",
        "int(media_de_precios[\"Arroyomolinos (Madrid)\"])"
      ]
    },
    {
      "cell_type": "markdown",
      "id": "actual-edinburgh",
      "metadata": {
        "id": "actual-edinburgh"
      },
      "source": [
        "#### Ejercicio 09.\n",
        "\n",
        "¿Los precios promedios de \"Valdemorillo\" y \"Galapagar\" son iguales? (★★☆)\n",
        "\n",
        "- Muestra ambos promedios\n",
        "- Escribe en una celda markdown una conclusión sobre ellos"
      ]
    },
    {
      "cell_type": "code",
      "execution_count": 13,
      "id": "numeric-commerce",
      "metadata": {
        "colab": {
          "base_uri": "https://localhost:8080/"
        },
        "id": "numeric-commerce",
        "outputId": "9d6a3a94-deae-4db8-b009-1ef603119223"
      },
      "outputs": [
        {
          "data": {
            "text/plain": [
              "'precios promedio en Valdemorillo: 363860, precios promedio en Galapagar: 360063'"
            ]
          },
          "execution_count": 13,
          "metadata": {},
          "output_type": "execute_result"
        }
      ],
      "source": [
        "precios_promedio_en_valdemorillo = int(media_de_precios[\"Valdemorillo\"])\n",
        "precios_promedio_en_galapagar = int(media_de_precios[\"Galapagar\"])\n",
        "f\"precios promedio en Valdemorillo: {precios_promedio_en_valdemorillo}, precios promedio en Galapagar: {precios_promedio_en_galapagar}\"\n"
      ]
    },
    {
      "cell_type": "markdown",
      "id": "LS0CA6tQifBN",
      "metadata": {
        "id": "LS0CA6tQifBN"
      },
      "source": [
        "En promedio no son exactamente iguales pero si muy similares con una diferencia de menos de 4000€ por lo que se puede concluir que los precios de las viviendas en ambos sectores podrian estar por el mismo nivel."
      ]
    },
    {
      "cell_type": "markdown",
      "id": "lonely-article",
      "metadata": {
        "id": "lonely-article"
      },
      "source": [
        "#### Ejercicio 10\n",
        "\n",
        "¿Los promedios de precio por metro cuadrado (precio/m2) de \"Valdemorillo\" y \"Galapagar\" son iguales? (★★☆)\n",
        "\n",
        "> Pista: Crea una nueva columna llamada `pps` (*price per square* o precio por metro cuadrado) y luego analiza los valores.\n",
        "\n",
        "- Muestra ambos promedios de precio por metro cuadrado\n",
        "- Escribe en una celda markdown una conclusión sobre ellos"
      ]
    },
    {
      "cell_type": "code",
      "execution_count": 34,
      "id": "common-drilling",
      "metadata": {
        "colab": {
          "base_uri": "https://localhost:8080/"
        },
        "id": "common-drilling",
        "outputId": "bd6f5b5b-9c41-4aca-defa-31004166fed9"
      },
      "outputs": [
        {
          "data": {
            "text/plain": [
              "'precios promedio en Valdemorillo por metros2: 1317 precios promedio en Galapagar por metros2: 1606'"
            ]
          },
          "execution_count": 34,
          "metadata": {},
          "output_type": "execute_result"
        }
      ],
      "source": [
        "df[\"pps\"]=df[\"price\"]/df[\"surface\"]\n",
        "media_de_precios_por_mts2 = df.groupby(\"level5\")[\"pps\"].mean()\n",
        "precios_valdemorillo_por_mts2 = int(media_de_precios_por_mts2[\"Valdemorillo\"])\n",
        "precios_galapagar_por_mts2 = int(media_de_precios_por_mts2[\"Galapagar\"])\n",
        "f\"precios promedio en Valdemorillo por metros2: {precios_valdemorillo_por_mts2} precios promedio en Galapagar por metros2: {precios_galapagar_por_mts2}\""
      ]
    },
    {
      "cell_type": "markdown",
      "id": "HyvwOZRbk35E",
      "metadata": {
        "id": "HyvwOZRbk35E"
      },
      "source": [
        "se observa que los precios por metros cuadrados en  Valdemorillo son mas bajos por lo que se puede concluir que construcciones con las mismas cantidades de metros cuadrados posiblemente sean mas economicos en Valdemorillo que en Galapagar"
      ]
    },
    {
      "cell_type": "markdown",
      "id": "coordinate-sunrise",
      "metadata": {
        "id": "coordinate-sunrise"
      },
      "source": [
        "#### Ejercicio 11\n",
        "\n",
        "¿Cuántas agencia de bienes raíces contiene el dataset? (★★☆)\n",
        "\n",
        "- Muestra el valor obtenido."
      ]
    },
    {
      "cell_type": "code",
      "execution_count": null,
      "id": "valid-honolulu",
      "metadata": {
        "colab": {
          "base_uri": "https://localhost:8080/"
        },
        "id": "valid-honolulu",
        "outputId": "abbe851b-750b-44f7-8cb0-b7b41e06ddda"
      },
      "outputs": [
        {
          "data": {
            "text/plain": [
              "1821"
            ]
          },
          "execution_count": 23,
          "metadata": {},
          "output_type": "execute_result"
        }
      ],
      "source": [
        "lista_de_inmoviliarias = df[\"realEstate_name\"].unique() #lista de todas las inmoviliarias\n",
        "df[\"realEstate_name\"].nunique()"
      ]
    },
    {
      "cell_type": "markdown",
      "id": "binding-ebony",
      "metadata": {
        "id": "binding-ebony"
      },
      "source": [
        "#### Ejercicio 12\n",
        "\n",
        "¿Cuál es la población (columna level5) que contiene la mayor cantidad de casas?(★★☆)\n",
        "\n",
        "- Muestra la población y el número de casas."
      ]
    },
    {
      "cell_type": "code",
      "execution_count": null,
      "id": "static-perry",
      "metadata": {
        "colab": {
          "base_uri": "https://localhost:8080/"
        },
        "id": "static-perry",
        "outputId": "f6c68a19-0756-44eb-e598-2c4c5ae745a4"
      },
      "outputs": [
        {
          "data": {
            "text/plain": [
              "(' Madrid Capital', 6643)"
            ]
          },
          "execution_count": 16,
          "metadata": {},
          "output_type": "execute_result"
        }
      ],
      "source": [
        "casas_por_poblacion = df[\"level5\"].value_counts() # nos  indica el numeros de casas por poblaciones\n",
        "casas_por_poblacion.idxmax(), int(casas_por_poblacion.max())    #idxmax retuna la poblacion del numero maximo, y max el numero maximo"
      ]
    },
    {
      "cell_type": "markdown",
      "id": "f6891b36e4d016c4",
      "metadata": {
        "id": "f6891b36e4d016c4"
      },
      "source": [
        "---\n",
        "\n",
        "## Trabajando con un subconjunto del DataFrame"
      ]
    },
    {
      "cell_type": "markdown",
      "id": "entire-classification",
      "metadata": {
        "id": "entire-classification"
      },
      "source": [
        "#### Ejercicio 13\n",
        "\n",
        "Ahora vamos a trabajar con el \"cinturón sur\" de Madrid.\n",
        "\n",
        "Haz un subconjunto del DataFrame original que contenga las siguientes poblaciones (columna level5): \"Fuenlabrada\", \"Leganés\", \"Getafe\", \"Alcorcón\" (★★☆)\n",
        "\n",
        "> Pista: Filtra el DataFrame original usando la columna `level5` y la función `isin`."
      ]
    },
    {
      "cell_type": "code",
      "execution_count": null,
      "id": "binary-input",
      "metadata": {
        "colab": {
          "base_uri": "https://localhost:8080/",
          "height": 617
        },
        "id": "binary-input",
        "outputId": "a02e89b2-5e39-4d14-87a8-67efa12e28cb"
      },
      "outputs": [
        {
          "data": {
            "text/html": [
              "<div>\n",
              "<style scoped>\n",
              "    .dataframe tbody tr th:only-of-type {\n",
              "        vertical-align: middle;\n",
              "    }\n",
              "\n",
              "    .dataframe tbody tr th {\n",
              "        vertical-align: top;\n",
              "    }\n",
              "\n",
              "    .dataframe thead th {\n",
              "        text-align: right;\n",
              "    }\n",
              "</style>\n",
              "<table border=\"1\" class=\"dataframe\">\n",
              "  <thead>\n",
              "    <tr style=\"text-align: right;\">\n",
              "      <th></th>\n",
              "      <th>Unnamed: 0</th>\n",
              "      <th>id_realEstates</th>\n",
              "      <th>isNew</th>\n",
              "      <th>realEstate_name</th>\n",
              "      <th>phone_realEstate</th>\n",
              "      <th>url_inmueble</th>\n",
              "      <th>rooms</th>\n",
              "      <th>bathrooms</th>\n",
              "      <th>surface</th>\n",
              "      <th>price</th>\n",
              "      <th>...</th>\n",
              "      <th>level5Id</th>\n",
              "      <th>level6Id</th>\n",
              "      <th>level7Id</th>\n",
              "      <th>level8Id</th>\n",
              "      <th>accuracy</th>\n",
              "      <th>latitude</th>\n",
              "      <th>longitude</th>\n",
              "      <th>zipCode</th>\n",
              "      <th>customZone</th>\n",
              "      <th>pps</th>\n",
              "    </tr>\n",
              "  </thead>\n",
              "  <tbody>\n",
              "    <tr>\n",
              "      <th>1</th>\n",
              "      <td>2</td>\n",
              "      <td>153867863</td>\n",
              "      <td>False</td>\n",
              "      <td>tecnocasa fuenlabrada ferrocarril</td>\n",
              "      <td>916358736.0</td>\n",
              "      <td>https://www.fotocasa.es/es/comprar/vivienda/ma...</td>\n",
              "      <td>3.0</td>\n",
              "      <td>1.0</td>\n",
              "      <td>NaN</td>\n",
              "      <td>89000</td>\n",
              "      <td>...</td>\n",
              "      <td>0</td>\n",
              "      <td>0</td>\n",
              "      <td>0</td>\n",
              "      <td>0</td>\n",
              "      <td>1</td>\n",
              "      <td>40,28674</td>\n",
              "      <td>-3,79351</td>\n",
              "      <td>NaN</td>\n",
              "      <td>NaN</td>\n",
              "      <td>NaN</td>\n",
              "    </tr>\n",
              "    <tr>\n",
              "      <th>3</th>\n",
              "      <td>4</td>\n",
              "      <td>152776331</td>\n",
              "      <td>False</td>\n",
              "      <td>tecnocasa fuenlabrada ferrocarril</td>\n",
              "      <td>916358736.0</td>\n",
              "      <td>https://www.fotocasa.es/es/comprar/vivienda/ma...</td>\n",
              "      <td>3.0</td>\n",
              "      <td>1.0</td>\n",
              "      <td>86.0</td>\n",
              "      <td>89000</td>\n",
              "      <td>...</td>\n",
              "      <td>0</td>\n",
              "      <td>0</td>\n",
              "      <td>0</td>\n",
              "      <td>0</td>\n",
              "      <td>0</td>\n",
              "      <td>40,2853785786438</td>\n",
              "      <td>-3,79508142135624</td>\n",
              "      <td>NaN</td>\n",
              "      <td>NaN</td>\n",
              "      <td>1034.883721</td>\n",
              "    </tr>\n",
              "    <tr>\n",
              "      <th>85</th>\n",
              "      <td>86</td>\n",
              "      <td>153152077</td>\n",
              "      <td>False</td>\n",
              "      <td>sinergical inmobiliaria</td>\n",
              "      <td>NaN</td>\n",
              "      <td>https://www.fotocasa.es/es/comprar/vivienda/le...</td>\n",
              "      <td>1.0</td>\n",
              "      <td>1.0</td>\n",
              "      <td>50.0</td>\n",
              "      <td>107000</td>\n",
              "      <td>...</td>\n",
              "      <td>0</td>\n",
              "      <td>0</td>\n",
              "      <td>0</td>\n",
              "      <td>0</td>\n",
              "      <td>1</td>\n",
              "      <td>40,35059</td>\n",
              "      <td>-3,82693</td>\n",
              "      <td>NaN</td>\n",
              "      <td>NaN</td>\n",
              "      <td>2140.000000</td>\n",
              "    </tr>\n",
              "    <tr>\n",
              "      <th>94</th>\n",
              "      <td>95</td>\n",
              "      <td>153995577</td>\n",
              "      <td>False</td>\n",
              "      <td>viviendas365com</td>\n",
              "      <td>911226014.0</td>\n",
              "      <td>https://www.fotocasa.es/es/comprar/vivienda/le...</td>\n",
              "      <td>3.0</td>\n",
              "      <td>2.0</td>\n",
              "      <td>120.0</td>\n",
              "      <td>320000</td>\n",
              "      <td>...</td>\n",
              "      <td>0</td>\n",
              "      <td>0</td>\n",
              "      <td>0</td>\n",
              "      <td>0</td>\n",
              "      <td>0</td>\n",
              "      <td>40,31933</td>\n",
              "      <td>-3,77574</td>\n",
              "      <td>NaN</td>\n",
              "      <td>NaN</td>\n",
              "      <td>2666.666667</td>\n",
              "    </tr>\n",
              "    <tr>\n",
              "      <th>109</th>\n",
              "      <td>110</td>\n",
              "      <td>153586414</td>\n",
              "      <td>False</td>\n",
              "      <td>area uno asesores inmobiliarios</td>\n",
              "      <td>912664081.0</td>\n",
              "      <td>https://www.fotocasa.es/es/comprar/vivienda/ma...</td>\n",
              "      <td>3.0</td>\n",
              "      <td>3.0</td>\n",
              "      <td>142.0</td>\n",
              "      <td>425000</td>\n",
              "      <td>...</td>\n",
              "      <td>0</td>\n",
              "      <td>0</td>\n",
              "      <td>0</td>\n",
              "      <td>0</td>\n",
              "      <td>0</td>\n",
              "      <td>40,3313411</td>\n",
              "      <td>-3,8313868</td>\n",
              "      <td>NaN</td>\n",
              "      <td>NaN</td>\n",
              "      <td>2992.957746</td>\n",
              "    </tr>\n",
              "    <tr>\n",
              "      <th>...</th>\n",
              "      <td>...</td>\n",
              "      <td>...</td>\n",
              "      <td>...</td>\n",
              "      <td>...</td>\n",
              "      <td>...</td>\n",
              "      <td>...</td>\n",
              "      <td>...</td>\n",
              "      <td>...</td>\n",
              "      <td>...</td>\n",
              "      <td>...</td>\n",
              "      <td>...</td>\n",
              "      <td>...</td>\n",
              "      <td>...</td>\n",
              "      <td>...</td>\n",
              "      <td>...</td>\n",
              "      <td>...</td>\n",
              "      <td>...</td>\n",
              "      <td>...</td>\n",
              "      <td>...</td>\n",
              "      <td>...</td>\n",
              "      <td>...</td>\n",
              "    </tr>\n",
              "    <tr>\n",
              "      <th>15275</th>\n",
              "      <td>15276</td>\n",
              "      <td>153903887</td>\n",
              "      <td>False</td>\n",
              "      <td>aliseda servicios de gestion inmobiliaria</td>\n",
              "      <td>911368198.0</td>\n",
              "      <td>https://www.fotocasa.es/es/comprar/vivienda/al...</td>\n",
              "      <td>3.0</td>\n",
              "      <td>1.0</td>\n",
              "      <td>78.0</td>\n",
              "      <td>138000</td>\n",
              "      <td>...</td>\n",
              "      <td>0</td>\n",
              "      <td>0</td>\n",
              "      <td>0</td>\n",
              "      <td>0</td>\n",
              "      <td>1</td>\n",
              "      <td>40,31381</td>\n",
              "      <td>-3,83733</td>\n",
              "      <td>NaN</td>\n",
              "      <td>NaN</td>\n",
              "      <td>1769.230769</td>\n",
              "    </tr>\n",
              "    <tr>\n",
              "      <th>15291</th>\n",
              "      <td>15292</td>\n",
              "      <td>151697757</td>\n",
              "      <td>False</td>\n",
              "      <td>unipiso</td>\n",
              "      <td>912788631.0</td>\n",
              "      <td>https://www.fotocasa.es/es/comprar/vivienda/al...</td>\n",
              "      <td>3.0</td>\n",
              "      <td>2.0</td>\n",
              "      <td>110.0</td>\n",
              "      <td>279000</td>\n",
              "      <td>...</td>\n",
              "      <td>0</td>\n",
              "      <td>0</td>\n",
              "      <td>0</td>\n",
              "      <td>0</td>\n",
              "      <td>0</td>\n",
              "      <td>40,3259051</td>\n",
              "      <td>-3,76318</td>\n",
              "      <td>NaN</td>\n",
              "      <td>NaN</td>\n",
              "      <td>2536.363636</td>\n",
              "    </tr>\n",
              "    <tr>\n",
              "      <th>15305</th>\n",
              "      <td>15306</td>\n",
              "      <td>153902389</td>\n",
              "      <td>False</td>\n",
              "      <td>jadein ferrero</td>\n",
              "      <td>914871639.0</td>\n",
              "      <td>https://www.fotocasa.es/es/comprar/vivienda/ma...</td>\n",
              "      <td>3.0</td>\n",
              "      <td>2.0</td>\n",
              "      <td>85.0</td>\n",
              "      <td>170000</td>\n",
              "      <td>...</td>\n",
              "      <td>0</td>\n",
              "      <td>0</td>\n",
              "      <td>0</td>\n",
              "      <td>0</td>\n",
              "      <td>0</td>\n",
              "      <td>40,2882193</td>\n",
              "      <td>-3,8098617</td>\n",
              "      <td>NaN</td>\n",
              "      <td>NaN</td>\n",
              "      <td>2000.000000</td>\n",
              "    </tr>\n",
              "    <tr>\n",
              "      <th>15322</th>\n",
              "      <td>15323</td>\n",
              "      <td>153871864</td>\n",
              "      <td>False</td>\n",
              "      <td>gestion comercial</td>\n",
              "      <td>911220662.0</td>\n",
              "      <td>https://www.fotocasa.es/es/comprar/vivienda/ma...</td>\n",
              "      <td>3.0</td>\n",
              "      <td>1.0</td>\n",
              "      <td>91.0</td>\n",
              "      <td>112000</td>\n",
              "      <td>...</td>\n",
              "      <td>0</td>\n",
              "      <td>0</td>\n",
              "      <td>0</td>\n",
              "      <td>0</td>\n",
              "      <td>0</td>\n",
              "      <td>40,28282</td>\n",
              "      <td>-3,78892</td>\n",
              "      <td>NaN</td>\n",
              "      <td>NaN</td>\n",
              "      <td>1230.769231</td>\n",
              "    </tr>\n",
              "    <tr>\n",
              "      <th>15325</th>\n",
              "      <td>15326</td>\n",
              "      <td>153901467</td>\n",
              "      <td>False</td>\n",
              "      <td>montehogar 68</td>\n",
              "      <td>911790675.0</td>\n",
              "      <td>https://www.fotocasa.es/es/comprar/vivienda/ma...</td>\n",
              "      <td>2.0</td>\n",
              "      <td>2.0</td>\n",
              "      <td>99.0</td>\n",
              "      <td>215000</td>\n",
              "      <td>...</td>\n",
              "      <td>0</td>\n",
              "      <td>0</td>\n",
              "      <td>0</td>\n",
              "      <td>0</td>\n",
              "      <td>1</td>\n",
              "      <td>40,28062</td>\n",
              "      <td>-3,79869</td>\n",
              "      <td>NaN</td>\n",
              "      <td>NaN</td>\n",
              "      <td>2171.717172</td>\n",
              "    </tr>\n",
              "  </tbody>\n",
              "</table>\n",
              "<p>907 rows × 38 columns</p>\n",
              "</div>"
            ],
            "text/plain": [
              "       Unnamed: 0  id_realEstates  isNew  \\\n",
              "1               2       153867863  False   \n",
              "3               4       152776331  False   \n",
              "85             86       153152077  False   \n",
              "94             95       153995577  False   \n",
              "109           110       153586414  False   \n",
              "...           ...             ...    ...   \n",
              "15275       15276       153903887  False   \n",
              "15291       15292       151697757  False   \n",
              "15305       15306       153902389  False   \n",
              "15322       15323       153871864  False   \n",
              "15325       15326       153901467  False   \n",
              "\n",
              "                                 realEstate_name  phone_realEstate  \\\n",
              "1              tecnocasa fuenlabrada ferrocarril       916358736.0   \n",
              "3              tecnocasa fuenlabrada ferrocarril       916358736.0   \n",
              "85                       sinergical inmobiliaria               NaN   \n",
              "94                               viviendas365com       911226014.0   \n",
              "109              area uno asesores inmobiliarios       912664081.0   \n",
              "...                                          ...               ...   \n",
              "15275  aliseda servicios de gestion inmobiliaria       911368198.0   \n",
              "15291                                    unipiso       912788631.0   \n",
              "15305                             jadein ferrero       914871639.0   \n",
              "15322                          gestion comercial       911220662.0   \n",
              "15325                              montehogar 68       911790675.0   \n",
              "\n",
              "                                            url_inmueble  rooms  bathrooms  \\\n",
              "1      https://www.fotocasa.es/es/comprar/vivienda/ma...    3.0        1.0   \n",
              "3      https://www.fotocasa.es/es/comprar/vivienda/ma...    3.0        1.0   \n",
              "85     https://www.fotocasa.es/es/comprar/vivienda/le...    1.0        1.0   \n",
              "94     https://www.fotocasa.es/es/comprar/vivienda/le...    3.0        2.0   \n",
              "109    https://www.fotocasa.es/es/comprar/vivienda/ma...    3.0        3.0   \n",
              "...                                                  ...    ...        ...   \n",
              "15275  https://www.fotocasa.es/es/comprar/vivienda/al...    3.0        1.0   \n",
              "15291  https://www.fotocasa.es/es/comprar/vivienda/al...    3.0        2.0   \n",
              "15305  https://www.fotocasa.es/es/comprar/vivienda/ma...    3.0        2.0   \n",
              "15322  https://www.fotocasa.es/es/comprar/vivienda/ma...    3.0        1.0   \n",
              "15325  https://www.fotocasa.es/es/comprar/vivienda/ma...    2.0        2.0   \n",
              "\n",
              "       surface   price  ... level5Id level6Id level7Id level8Id accuracy  \\\n",
              "1          NaN   89000  ...        0        0        0        0        1   \n",
              "3         86.0   89000  ...        0        0        0        0        0   \n",
              "85        50.0  107000  ...        0        0        0        0        1   \n",
              "94       120.0  320000  ...        0        0        0        0        0   \n",
              "109      142.0  425000  ...        0        0        0        0        0   \n",
              "...        ...     ...  ...      ...      ...      ...      ...      ...   \n",
              "15275     78.0  138000  ...        0        0        0        0        1   \n",
              "15291    110.0  279000  ...        0        0        0        0        0   \n",
              "15305     85.0  170000  ...        0        0        0        0        0   \n",
              "15322     91.0  112000  ...        0        0        0        0        0   \n",
              "15325     99.0  215000  ...        0        0        0        0        1   \n",
              "\n",
              "               latitude          longitude zipCode customZone          pps  \n",
              "1              40,28674           -3,79351     NaN        NaN          NaN  \n",
              "3      40,2853785786438  -3,79508142135624     NaN        NaN  1034.883721  \n",
              "85             40,35059           -3,82693     NaN        NaN  2140.000000  \n",
              "94             40,31933           -3,77574     NaN        NaN  2666.666667  \n",
              "109          40,3313411         -3,8313868     NaN        NaN  2992.957746  \n",
              "...                 ...                ...     ...        ...          ...  \n",
              "15275          40,31381           -3,83733     NaN        NaN  1769.230769  \n",
              "15291        40,3259051           -3,76318     NaN        NaN  2536.363636  \n",
              "15305        40,2882193         -3,8098617     NaN        NaN  2000.000000  \n",
              "15322          40,28282           -3,78892     NaN        NaN  1230.769231  \n",
              "15325          40,28062           -3,79869     NaN        NaN  2171.717172  \n",
              "\n",
              "[907 rows x 38 columns]"
            ]
          },
          "execution_count": 17,
          "metadata": {},
          "output_type": "execute_result"
        }
      ],
      "source": [
        "df_sub = df[df[\"level5\"].isin([\"Fuenlabrada\", \"Leganés\", \"Getafe\", \"Alcorcón\"])]\n",
        "df_sub"
      ]
    },
    {
      "cell_type": "markdown",
      "id": "speaking-diamond",
      "metadata": {
        "id": "speaking-diamond"
      },
      "source": [
        "#### Ejercicio 14\n",
        "\n",
        "Calcula la media y la varianza de muestra para las siguientes variables: precio, habitaciones, superficie y baños (★★★)\n",
        "\n",
        "> Debes usar el subset obtenido en la pregunta 13\n",
        "\n",
        "- Crea y visualiza un diccionario con todos los valores"
      ]
    },
    {
      "cell_type": "code",
      "execution_count": 35,
      "id": "random-feeling",
      "metadata": {
        "colab": {
          "base_uri": "https://localhost:8080/"
        },
        "id": "random-feeling",
        "outputId": "1372d289-2758-4188-c646-2009a1db6d53"
      },
      "outputs": [
        {
          "data": {
            "text/plain": [
              "{'Fuenlabrada': {'bathrooms_var': 0.35,\n",
              "  'surface_var': 2264.64,\n",
              "  'rooms_var': 0.36,\n",
              "  'price_var': 4701020700.47,\n",
              "  'bathrooms_mean': 1.45,\n",
              "  'surface_mean': 103.62,\n",
              "  'rooms_mean': 3.03,\n",
              "  'price_mean': 177198.02},\n",
              " 'Alcorcón': {'bathrooms_var': 0.59,\n",
              "  'surface_var': 4244.32,\n",
              "  'rooms_var': 0.93,\n",
              "  'price_var': 15947825983.01,\n",
              "  'bathrooms_mean': 1.62,\n",
              "  'surface_mean': 105.91,\n",
              "  'rooms_mean': 2.91,\n",
              "  'price_mean': 230071.05},\n",
              " 'Leganés': {'bathrooms_var': 0.55,\n",
              "  'surface_var': 3987.48,\n",
              "  'rooms_var': 0.82,\n",
              "  'price_var': 11913940043.5,\n",
              "  'bathrooms_mean': 1.52,\n",
              "  'surface_mean': 105.85,\n",
              "  'rooms_mean': 2.91,\n",
              "  'price_mean': 208682.01},\n",
              " 'Getafe': {'bathrooms_var': 0.66,\n",
              "  'surface_var': 5828.11,\n",
              "  'rooms_var': 0.77,\n",
              "  'price_var': 20982665802.24,\n",
              "  'bathrooms_mean': 1.87,\n",
              "  'surface_mean': 126.9,\n",
              "  'rooms_mean': 3.15,\n",
              "  'price_mean': 265040.5}}"
            ]
          },
          "execution_count": 35,
          "metadata": {},
          "output_type": "execute_result"
        }
      ],
      "source": [
        "medias = df_sub.groupby(\"level5\")[[\"bathrooms\",\"surface\",\"rooms\", \"price\"]].mean()\n",
        "varianzas = df_sub.groupby(\"level5\")[[\"bathrooms\",\"surface\",\"rooms\", \"price\"]].var()\n",
        "poblaciones = {}\n",
        "for poblacion in df_sub[\"level5\"].unique():\n",
        "  poblaciones[poblacion] ={}\n",
        "for poblacion in poblaciones.keys():\n",
        "  for column in varianzas:\n",
        "    poblaciones[poblacion][column+\"_var\"] = round(float(varianzas.loc[poblacion, column]),2)\n",
        "  for column in medias:\n",
        "    poblaciones[poblacion][column+\"_mean\"] = round(float(medias.loc[poblacion, column]),2)\n",
        "poblaciones"
      ]
    },
    {
      "cell_type": "markdown",
      "id": "revolutionary-matrix",
      "metadata": {
        "id": "revolutionary-matrix"
      },
      "source": [
        "#### Ejercicio 15\n",
        "\n",
        "¿Cuál es la casa más cara de cada población del cinturón sur de Madríd? (★★☆)\n",
        "\n",
        "> Debes usar el subset obtenido en la pregunta 13\n",
        "\n",
        "- Genera un DataFrame con esta información\n",
        "- Muestra tanto la dirección como el precio de la casa seleccionada de cada población.\n",
        "- Genera conclusiones en una celda markdown"
      ]
    },
    {
      "cell_type": "code",
      "execution_count": null,
      "id": "fifteen-browse",
      "metadata": {
        "colab": {
          "base_uri": "https://localhost:8080/",
          "height": 175
        },
        "id": "fifteen-browse",
        "outputId": "15264540-211f-461f-9622-510f93828571"
      },
      "outputs": [
        {
          "data": {
            "text/html": [
              "<div>\n",
              "<style scoped>\n",
              "    .dataframe tbody tr th:only-of-type {\n",
              "        vertical-align: middle;\n",
              "    }\n",
              "\n",
              "    .dataframe tbody tr th {\n",
              "        vertical-align: top;\n",
              "    }\n",
              "\n",
              "    .dataframe thead th {\n",
              "        text-align: right;\n",
              "    }\n",
              "</style>\n",
              "<table border=\"1\" class=\"dataframe\">\n",
              "  <thead>\n",
              "    <tr style=\"text-align: right;\">\n",
              "      <th></th>\n",
              "      <th>level5</th>\n",
              "      <th>address</th>\n",
              "      <th>price</th>\n",
              "    </tr>\n",
              "  </thead>\n",
              "  <tbody>\n",
              "    <tr>\n",
              "      <th>5585</th>\n",
              "      <td>Alcorcón</td>\n",
              "      <td>Alcorcón</td>\n",
              "      <td>950000</td>\n",
              "    </tr>\n",
              "    <tr>\n",
              "      <th>11561</th>\n",
              "      <td>Fuenlabrada</td>\n",
              "      <td>Calle de Paulo Freire, 5, Fuenlabrada</td>\n",
              "      <td>490000</td>\n",
              "    </tr>\n",
              "    <tr>\n",
              "      <th>2881</th>\n",
              "      <td>Getafe</td>\n",
              "      <td>Getafe</td>\n",
              "      <td>1050000</td>\n",
              "    </tr>\n",
              "    <tr>\n",
              "      <th>10412</th>\n",
              "      <td>Leganés</td>\n",
              "      <td>Avenida Reina Sofía, Leganés</td>\n",
              "      <td>650000</td>\n",
              "    </tr>\n",
              "  </tbody>\n",
              "</table>\n",
              "</div>"
            ],
            "text/plain": [
              "            level5                                address    price\n",
              "5585      Alcorcón                               Alcorcón   950000\n",
              "11561  Fuenlabrada  Calle de Paulo Freire, 5, Fuenlabrada   490000\n",
              "2881        Getafe                                 Getafe  1050000\n",
              "10412      Leganés           Avenida Reina Sofía, Leganés   650000"
            ]
          },
          "execution_count": 19,
          "metadata": {},
          "output_type": "execute_result"
        }
      ],
      "source": [
        "precios_max = df_sub.loc[df_sub.groupby(\"level5\")[\"price\"].idxmax(),[\"level5\",\"address\",\"price\"]]\n",
        "precios_max"
      ]
    },
    {
      "cell_type": "markdown",
      "id": "k36uL020hve5",
      "metadata": {
        "id": "k36uL020hve5"
      },
      "source": [
        "se observa que alcorcón y getafe se encuetran las casas con el mayor precio y en precios similares mientras que en la region de fuenlabrada y Leganés las casas con mayor precio se encuentrar muy por debajo de los precios de las otras dos regiones"
      ]
    },
    {
      "cell_type": "markdown",
      "id": "patent-jonathan",
      "metadata": {
        "id": "patent-jonathan"
      },
      "source": [
        "#### Ejercicio 16\n",
        "\n",
        "¿Qué puedes decir acerca del precio por metro cuadrado (precio/m2) entre los municipios de 'Getafe' y 'Alcorcón'? (★★☆)\n",
        "\n",
        "> Debes usar el subset obtenido en la pregunta 13\n",
        ">\n",
        "> Pista: Crea una nueva columna llamada `pps` (price per square en inglés) y luego analiza los valores"
      ]
    },
    {
      "cell_type": "code",
      "execution_count": 36,
      "id": "initial-liverpool",
      "metadata": {
        "colab": {
          "base_uri": "https://localhost:8080/"
        },
        "id": "initial-liverpool",
        "outputId": "657280a0-00ad-409b-9145-e01819f826aa"
      },
      "outputs": [
        {
          "name": "stdout",
          "output_type": "stream",
          "text": [
            "precios promedio en Getafe por metros2: 2066\n",
            " precios promedio en Alcorcon por metros2: 2239\n"
          ]
        }
      ],
      "source": [
        "#en un ejercicio anterior se sacaron todos precios por mts2 de las poblaciones\n",
        "#por lo que no vi necesario crear nuevamente la variable ya que la misma existia al\n",
        "#crear el df_sub,\n",
        "\n",
        "media_de_precios_por_mts2 = df_sub.groupby(\"level5\")[\"pps\"].mean()\n",
        "media_de_precios_por_mts2\n",
        "precios_promedio_en_getafe = int(media_de_precios_por_mts2[\"Getafe\"])\n",
        "precios_promedio_en_alcorcon = int(media_de_precios_por_mts2[\"Alcorcón\"])\n",
        "print(f\"precios promedio en Getafe por metros2: {precios_promedio_en_getafe}\\n precios promedio en Alcorcon por metros2: {precios_promedio_en_alcorcon}\")\n"
      ]
    },
    {
      "cell_type": "markdown",
      "id": "8dWB4Vf6gKnf",
      "metadata": {
        "id": "8dWB4Vf6gKnf"
      },
      "source": [
        "la zona de Alcorcon es aparentemente una zona mas cara ya que en promedio el precio por metro cuadrado es mas elevado que en Getafe"
      ]
    },
    {
      "cell_type": "markdown",
      "id": "77f4fb6b000f9e0b",
      "metadata": {
        "id": "77f4fb6b000f9e0b"
      },
      "source": [
        "## Conclusiones"
      ]
    },
    {
      "cell_type": "markdown",
      "id": "d68570bb7b80a83e",
      "metadata": {
        "id": "d68570bb7b80a83e"
      },
      "source": [
        "#### Ejercicio 17\n",
        "\n",
        "Escribe aquí tus conclusiones acerca de este proyecto"
      ]
    },
    {
      "cell_type": "markdown",
      "id": "KNOzZEOtepQh",
      "metadata": {
        "id": "KNOzZEOtepQh"
      },
      "source": [
        "se observa que para toda la base de datos los precios de las casas dependen mucho de su ubicacion el cual hace referencia a una media de precios por sector por los metros cuadrados que estas tengan. una casa pequeña en un sector caro puede ser incluso mas cara que una casa grande en un sector barato. "
      ]
    }
  ],
  "metadata": {
    "colab": {
      "provenance": []
    },
    "kernelspec": {
      "display_name": "Python 3",
      "language": "python",
      "name": "python3"
    },
    "language_info": {
      "codemirror_mode": {
        "name": "ipython",
        "version": 3
      },
      "file_extension": ".py",
      "mimetype": "text/x-python",
      "name": "python",
      "nbconvert_exporter": "python",
      "pygments_lexer": "ipython3",
      "version": "3.11.4"
    }
  },
  "nbformat": 4,
  "nbformat_minor": 5
}
